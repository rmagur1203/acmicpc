{
 "cells": [
  {
   "cell_type": "code",
   "execution_count": 1,
   "metadata": {},
   "outputs": [
    {
     "name": "stdout",
     "output_type": "stream",
     "text": [
      "1\n",
      "2\n",
      "9\n"
     ]
    }
   ],
   "source": [
    "import heapq\n",
    "\n",
    "arr = []\n",
    "\n",
    "heapq.heappush(arr, 1)\n",
    "heapq.heappush(arr, 9)\n",
    "heapq.heappush(arr, 2)\n",
    "\n",
    "print(heapq.heappop(arr))\n",
    "print(heapq.heappop(arr))\n",
    "print(heapq.heappop(arr))"
   ]
  }
 ],
 "metadata": {
  "interpreter": {
   "hash": "3db61ae8d795f44948afcaaac2c4722755906cd946cf570971fe7bcd855a16bf"
  },
  "kernelspec": {
   "display_name": "Python 3.9.6 64-bit",
   "name": "python3"
  },
  "language_info": {
   "codemirror_mode": {
    "name": "ipython",
    "version": 3
   },
   "file_extension": ".py",
   "mimetype": "text/x-python",
   "name": "python",
   "nbconvert_exporter": "python",
   "pygments_lexer": "ipython3",
   "version": "3.9.6"
  },
  "orig_nbformat": 4
 },
 "nbformat": 4,
 "nbformat_minor": 2
}
